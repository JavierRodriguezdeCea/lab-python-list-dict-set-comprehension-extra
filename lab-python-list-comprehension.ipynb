{
 "cells": [
  {
   "cell_type": "markdown",
   "id": "25d7736c-ba17-4aff-b6bb-66eba20fbf4e",
   "metadata": {},
   "source": [
    "# Lab | List, Dict and Set Comprehension"
   ]
  },
  {
   "cell_type": "markdown",
   "id": "6f8e446f-16b4-4e21-92e7-9d3d1eb551b6",
   "metadata": {},
   "source": [
    "Objective: Practice how to work with list, dict and set comprehensions to improve the efficiency and clarity of your Python code."
   ]
  },
  {
   "cell_type": "markdown",
   "id": "7b3b329e-c56a-4009-b6f2-8849c02c0cb8",
   "metadata": {},
   "source": [
    "Hint: If you're having trouble writing a solution using a comprehension, try writing it out in a more traditional way first. This can help you break the problem down into smaller steps and better understand what you need to do. Once you have a working solution, you can then try to transform it into a comprehension if desired. Comprehensions can often be more concise and readable, but it's important to prioritize clarity and correctness over brevity."
   ]
  },
  {
   "cell_type": "markdown",
   "id": "20c3e882-9625-471e-afb4-48a4f40c5d1b",
   "metadata": {
    "tags": []
   },
   "source": [
    "## Challenge 1 - Katas"
   ]
  },
  {
   "cell_type": "markdown",
   "id": "75f816bf-f5a2-49a4-89de-89d8a533155f",
   "metadata": {},
   "source": [
    "Do the following katas using list, dict or set comprehension."
   ]
  },
  {
   "cell_type": "markdown",
   "id": "0cdcc026-2830-4db5-9ec3-76d71833df93",
   "metadata": {},
   "source": [
    "### Katas - 1\n",
    "\n",
    "The Western Suburbs Croquet Club has two categories of membership, Senior and Open. They would like your help with an application form that will tell prospective members which category they will be placed.\n",
    "\n",
    "To be a senior, a member must be at least 55 years old and have a handicap greater than 7. In this croquet club, handicaps range from -2 to +26; the better the player the lower the handicap.\n",
    "\n",
    "**Input**\n",
    "\n",
    "Input will consist of a list of pairs. Each pair contains information for a single potential member. Information consists of an integer for the person's age and an integer for the person's handicap.\n",
    "\n",
    "**Output**\n",
    "\n",
    "Output will consist of a list of string values stating whether the respective member is to be placed in the senior or open category.\n",
    "\n",
    "**Example**\n",
    "\n",
    "```python\n",
    "input =  [[18, 20], [45, 2], [61, 12], [37, 6], [21, 21], [78, 9]]\n",
    "output = [\"Open\", \"Open\", \"Senior\", \"Open\", \"Open\", \"Senior\"]\n",
    "```"
   ]
  },
  {
   "cell_type": "code",
   "execution_count": 1,
   "id": "c9d1f837",
   "metadata": {},
   "outputs": [],
   "source": [
    "socio = [[18, 20], [45, 2], [61, 12], [37, 6], [21, 21], [78, 9]]\n",
    "categoria_socio = []"
   ]
  },
  {
   "cell_type": "code",
   "execution_count": 2,
   "id": "21625526-3fae-4c55-bab5-f91940070681",
   "metadata": {},
   "outputs": [],
   "source": [
    "for objeto in socio:\n",
    "    if objeto[0] >= 55 and objeto[1] <= 19:\n",
    "        categoria_socio.append('Senior')\n",
    "    else:\n",
    "        categoria_socio.append('Open')\n",
    "        "
   ]
  },
  {
   "cell_type": "code",
   "execution_count": 3,
   "id": "bb4ed16e",
   "metadata": {},
   "outputs": [
    {
     "data": {
      "text/plain": [
       "['Open', 'Open', 'Senior', 'Open', 'Open', 'Senior']"
      ]
     },
     "execution_count": 3,
     "metadata": {},
     "output_type": "execute_result"
    }
   ],
   "source": [
    "categoria_socio"
   ]
  },
  {
   "cell_type": "markdown",
   "id": "ad8758b7-bc71-4af8-999c-5e4def116906",
   "metadata": {},
   "source": [
    "### Katas - 2\n",
    "\n",
    "If we list all the natural numbers below 10 that are multiples of 3 or 5, we get 3, 5, 6 and 9. The sum of these multiples is 23.\n",
    "\n",
    "Write a solution so that it returns the sum of all the multiples of 3 or 5 below the number passed in. Additionally, if the number is negative, return 0.\n",
    "\n",
    "Note: If the number is a multiple of both 3 and 5, only count it once."
   ]
  },
  {
   "cell_type": "code",
   "execution_count": 4,
   "id": "4ea1bd7f",
   "metadata": {},
   "outputs": [],
   "source": [
    "lista_numeros = []\n"
   ]
  },
  {
   "cell_type": "code",
   "execution_count": 5,
   "id": "53061dce-7aa3-4476-8b56-71413c5e135c",
   "metadata": {},
   "outputs": [],
   "source": [
    "def resultado_suma_multiplos(num_elegido):\n",
    "    lista_numeros = []\n",
    "    cuenta = 0\n",
    "    for i in range(num_elegido):\n",
    "        \n",
    "        if i < 0:\n",
    "            lista_numeros.append(0)\n",
    "        elif i % 3 == 0 or i % 5 == 0:\n",
    "            lista_numeros.append(i)\n",
    "    for i in lista_numeros:\n",
    "        cuenta += i\n",
    "    return cuenta\n",
    "        "
   ]
  },
  {
   "cell_type": "code",
   "execution_count": 6,
   "id": "9675ad72",
   "metadata": {},
   "outputs": [
    {
     "data": {
      "text/plain": [
       "0"
      ]
     },
     "execution_count": 6,
     "metadata": {},
     "output_type": "execute_result"
    }
   ],
   "source": [
    "resultado_suma_multiplos(-11)"
   ]
  },
  {
   "cell_type": "markdown",
   "id": "bed9c59d-159a-41c4-86c0-d02b131d7070",
   "metadata": {},
   "source": [
    "### Katas - 3\n",
    "\n",
    "Given a non-negative integer, return an array / a list of the individual digits in order.\n",
    "\n",
    "Examples:\n",
    "\n",
    "```python\n",
    "\n",
    "123 => [1,2,3]\n",
    "\n",
    "1 => [1]\n",
    "\n",
    "8675309 => [8,6,7,5,3,0,9]\n",
    "\n",
    "```"
   ]
  },
  {
   "cell_type": "code",
   "execution_count": 7,
   "id": "a8cb1579-7065-4fc0-bd53-f91c2ad1dad9",
   "metadata": {},
   "outputs": [],
   "source": [
    "# your code goes here\n",
    "def matriz_num(numero):\n",
    "    matriz = []\n",
    "    for i in str(numero):\n",
    "        matriz.append(int(i))\n",
    "    return matriz"
   ]
  },
  {
   "cell_type": "code",
   "execution_count": 8,
   "id": "0f2c02bb",
   "metadata": {},
   "outputs": [
    {
     "data": {
      "text/plain": [
       "[1, 2, 9, 4, 2, 6, 0]"
      ]
     },
     "execution_count": 8,
     "metadata": {},
     "output_type": "execute_result"
    }
   ],
   "source": [
    "matriz_num(1294260)"
   ]
  },
  {
   "cell_type": "markdown",
   "id": "ab3f6eaa-c74d-45fa-a84a-516ae6ff6e0f",
   "metadata": {},
   "source": [
    "### Katas - 4\n",
    "\n",
    "Given a set of numbers, create a function that returns the additive inverse of each. Each positive becomes negatives, and the negatives become positives.\n",
    "\n",
    "```python\n",
    "invert([1,2,3,4,5]) == [-1,-2,-3,-4,-5]\n",
    "invert([1,-2,3,-4,5]) == [-1,2,-3,4,-5]\n",
    "invert([]) == []\n",
    "```\n",
    "\n",
    "You can assume that all values are integers. Do not mutate the input array/list.\n"
   ]
  },
  {
   "cell_type": "code",
   "execution_count": 9,
   "id": "86ebe759-76d8-4012-8590-c48a473a6099",
   "metadata": {},
   "outputs": [],
   "source": [
    "# your code goes here\n",
    "def inversos (lista_positivos):\n",
    "    lista_inversos = []\n",
    "    for numero in lista_positivos:\n",
    "        lista_inversos.append(-1*numero)\n",
    "    return lista_inversos"
   ]
  },
  {
   "cell_type": "code",
   "execution_count": 10,
   "id": "586411f3",
   "metadata": {},
   "outputs": [
    {
     "data": {
      "text/plain": [
       "[-1, -2, 3, -4, -5]"
      ]
     },
     "execution_count": 10,
     "metadata": {},
     "output_type": "execute_result"
    }
   ],
   "source": [
    "inversos([1, 2, -3, 4, 5])"
   ]
  },
  {
   "cell_type": "markdown",
   "id": "3a9f2c20-48d2-4d08-a8c5-76bb53caaafb",
   "metadata": {
    "tags": []
   },
   "source": [
    "## Challenge 2 - exercises"
   ]
  },
  {
   "cell_type": "markdown",
   "id": "1c3bfaae-d514-4d9d-adab-59b66af621c9",
   "metadata": {},
   "source": [
    "Do the following exercises using list, dict or set comprehension."
   ]
  },
  {
   "cell_type": "markdown",
   "id": "f5471e4a-a939-4626-9715-ad45f32c2487",
   "metadata": {},
   "source": [
    "### Exercise 1\n",
    "\n",
    "Create a dictionary whose keys (`key`) are integers between 1 and 15 (both inclusive) and the values (`value`) are the square of the key (`key`)."
   ]
  },
  {
   "cell_type": "code",
   "execution_count": 11,
   "id": "6711881b-450a-44cb-a3d0-367b2c6a4464",
   "metadata": {},
   "outputs": [],
   "source": [
    "# your code goes here\n",
    "def dict_cuadrados(numero):\n",
    "    diccionario_cuadrados = {}\n",
    "    for i in range(numero+1):\n",
    "        if i == 0:\n",
    "            pass\n",
    "        else: \n",
    "            diccionario_cuadrados[i] = i**2\n",
    "    return diccionario_cuadrados"
   ]
  },
  {
   "cell_type": "code",
   "execution_count": 12,
   "id": "4798d257",
   "metadata": {},
   "outputs": [
    {
     "data": {
      "text/plain": [
       "{1: 1,\n",
       " 2: 4,\n",
       " 3: 9,\n",
       " 4: 16,\n",
       " 5: 25,\n",
       " 6: 36,\n",
       " 7: 49,\n",
       " 8: 64,\n",
       " 9: 81,\n",
       " 10: 100,\n",
       " 11: 121,\n",
       " 12: 144,\n",
       " 13: 169,\n",
       " 14: 196,\n",
       " 15: 225}"
      ]
     },
     "execution_count": 12,
     "metadata": {},
     "output_type": "execute_result"
    }
   ],
   "source": [
    "dict_cuadrados(15)"
   ]
  },
  {
   "cell_type": "markdown",
   "id": "47dafbe6-5f2c-4f51-94d9-ca52f6d11492",
   "metadata": {},
   "source": [
    "### Exercise 2\n",
    "\n",
    "Write a program that takes two lists of integers, and returns a list of all possible pairs of integers where the first integer is from the first list, and the second integer is from the second list.\n",
    "\n",
    "Example:\n",
    "\n",
    "```python\n",
    "Input: [1, 2], [3, 4]\n",
    "Output: [(1, 3), (1, 4), (2, 3), (2, 4)]\n",
    "```\n"
   ]
  },
  {
   "cell_type": "code",
   "execution_count": 14,
   "id": "db827d1d",
   "metadata": {},
   "outputs": [],
   "source": [
    "from itertools import product\n",
    "\n",
    "def generar_parejas(lista_original):\n",
    "    resultado = []\n",
    "    for i in range(len(lista_original)):\n",
    "        for j in range(i + 1, len(lista_original)):\n",
    "            parejas = list(product(lista_original[i], lista_original[j]))\n",
    "            resultado.extend(parejas)\n",
    "    return resultado\n"
   ]
  },
  {
   "cell_type": "code",
   "execution_count": 15,
   "id": "93d63806",
   "metadata": {},
   "outputs": [
    {
     "data": {
      "text/plain": [
       "[(1, 3),\n",
       " (1, 4),\n",
       " (2, 3),\n",
       " (2, 4),\n",
       " (1, 5),\n",
       " (1, 6),\n",
       " (2, 5),\n",
       " (2, 6),\n",
       " (3, 5),\n",
       " (3, 6),\n",
       " (4, 5),\n",
       " (4, 6)]"
      ]
     },
     "execution_count": 15,
     "metadata": {},
     "output_type": "execute_result"
    }
   ],
   "source": [
    "generar_parejas([[1, 2], [3, 4], [5,6]])"
   ]
  },
  {
   "cell_type": "markdown",
   "id": "03110a8a-0dd9-4eb4-b6ce-116233b4d6cf",
   "metadata": {},
   "source": [
    "### Exercise 3\n",
    "\n",
    "Write a program that takes a dictionary of lists as input, and returns a list of all possible key-value pairs, where the key is from the dictionary, and the value is from the corresponding list.\n",
    "Example:\n",
    "    \n",
    "```python\n",
    "Input: {\"a\": [1, 2], \"b\": [3, 4]}\n",
    "Output: [(\"a\", 1), (\"a\", 2), (\"b\", 3), (\"b\", 4)]\n",
    "```"
   ]
  },
  {
   "cell_type": "code",
   "execution_count": 16,
   "id": "0175239c-87fa-4ba0-8776-d62567256db7",
   "metadata": {},
   "outputs": [],
   "source": [
    "def emparejar_diccionarios(lista_diccionarios):\n",
    "    resultado = []\n",
    "    for diccionario in lista_diccionarios:\n",
    "        for clave, valores in diccionario.items():\n",
    "            for valor in valores:\n",
    "                resultado.append((clave, valor))\n",
    "    return resultado"
   ]
  },
  {
   "cell_type": "code",
   "execution_count": 17,
   "id": "868fec22",
   "metadata": {},
   "outputs": [
    {
     "data": {
      "text/plain": [
       "[('a', 1), ('a', 2), ('b', 3), ('b', 4), ('c', 5), ('c', 6)]"
      ]
     },
     "execution_count": 17,
     "metadata": {},
     "output_type": "execute_result"
    }
   ],
   "source": [
    "emparejar_diccionarios([{'a': [1, 2]}, {'b': [3, 4]}, {'c': [5, 6]}])"
   ]
  },
  {
   "cell_type": "markdown",
   "id": "0cd7ff45-52eb-409c-9805-f838cdd95cc1",
   "metadata": {},
   "source": [
    "# Bonus exercises"
   ]
  },
  {
   "cell_type": "markdown",
   "id": "16d1e67a-6bd7-4932-a998-4542f06f029a",
   "metadata": {},
   "source": [
    "### Exercise 1\n",
    "\n",
    "Write a program that takes a list of tuples, where each tuple contains two lists of integers, and returns a list of all possible pairs of integers where the first integer is from the first list in a tuple, and the second integer is from the second list in the same tuple.\n",
    "\n",
    "Example:\n",
    "```python\n",
    "Input: [([1, 2], [3, 4]), ([5, 6], [7, 8])]\n",
    "Output: [(1, 3), (1, 4), (2, 3), (2, 4), (5, 7), (5, 8), (6, 7), (6, 8)]\n",
    "\n",
    "```"
   ]
  },
  {
   "cell_type": "code",
   "execution_count": 18,
   "id": "de3f4125",
   "metadata": {},
   "outputs": [],
   "source": [
    "def generar_parejas_tuplas(lista_tuplas):\n",
    "    resultado = []\n",
    "    for tupla in lista_tuplas:\n",
    "        parejas = list(product(tupla[0], tupla[1]))\n",
    "        resultado.extend(parejas)\n",
    "    return resultado"
   ]
  },
  {
   "cell_type": "code",
   "execution_count": 19,
   "id": "e5dcc136",
   "metadata": {},
   "outputs": [
    {
     "data": {
      "text/plain": [
       "[(1, 3), (1, 4), (2, 3), (2, 4), (5, 7), (5, 8), (6, 7), (6, 8)]"
      ]
     },
     "execution_count": 19,
     "metadata": {},
     "output_type": "execute_result"
    }
   ],
   "source": [
    "generar_parejas_tuplas([([1, 2], [3, 4]), ([5, 6], [7, 8])])"
   ]
  },
  {
   "cell_type": "markdown",
   "id": "737478d3-2e93-445f-b732-00043f9e0541",
   "metadata": {},
   "source": [
    "### Exercise 2\n",
    "\n",
    "Write a program that takes a list of strings, and returns a set of all possible pairs of characters where the first character is from the first string, and the second character is from the second string.\n",
    "\n",
    "Example:\n",
    "    \n",
    "```python\n",
    "Input: [\"ab\", \"cd\"]\n",
    "Output: {('a', 'b'), ('c', 'd'), ('a', 'd'), ('c', 'b')}\n",
    "```"
   ]
  },
  {
   "cell_type": "code",
   "execution_count": 20,
   "id": "26b9cbfc",
   "metadata": {},
   "outputs": [],
   "source": [
    "def generar_parejas_caracteres(lista_cadenas):\n",
    "    resultado = set()\n",
    "    for x in lista_cadenas[0]:\n",
    "        for y in lista_cadenas[1]:\n",
    "            if (x, y) not in resultado:\n",
    "                resultado.add((x, y))\n",
    "    return resultado"
   ]
  }
 ],
 "metadata": {
  "kernelspec": {
   "display_name": "Python 3",
   "language": "python",
   "name": "python3"
  },
  "language_info": {
   "codemirror_mode": {
    "name": "ipython",
    "version": 3
   },
   "file_extension": ".py",
   "mimetype": "text/x-python",
   "name": "python",
   "nbconvert_exporter": "python",
   "pygments_lexer": "ipython3",
   "version": "3.11.9"
  }
 },
 "nbformat": 4,
 "nbformat_minor": 5
}
